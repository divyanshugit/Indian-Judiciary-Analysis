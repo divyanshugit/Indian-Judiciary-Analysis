{
 "cells": [
  {
   "cell_type": "code",
   "execution_count": 1,
   "metadata": {},
   "outputs": [],
   "source": [
    "import numpy as np\n",
    "import pandas as pd\n",
    "import matplotlib as mpl\n",
    "import matplotlib.pyplot as plt\n",
    "import seaborn as sns\n",
    "\n",
    "\n",
    "from scipy import stats\n",
    "from sklearn.metrics import r2_score,mean_absolute_error\n",
    "import xgboost as xgb\n",
    "from sklearn.metrics import make_scorer\n",
    "from sklearn.model_selection import GridSearchCV, train_test_split\n",
    "from sklearn.metrics import f1_score,mean_squared_error\n"
   ]
  },
  {
   "cell_type": "code",
   "execution_count": 2,
   "metadata": {},
   "outputs": [],
   "source": [
    "df = pd.read_csv(\"divyanshu/PreCog/data/judge/judges_clean.csv\")"
   ]
  },
  {
   "cell_type": "code",
   "execution_count": 3,
   "metadata": {},
   "outputs": [
    {
     "data": {
      "text/html": [
       "<div>\n",
       "<style scoped>\n",
       "    .dataframe tbody tr th:only-of-type {\n",
       "        vertical-align: middle;\n",
       "    }\n",
       "\n",
       "    .dataframe tbody tr th {\n",
       "        vertical-align: top;\n",
       "    }\n",
       "\n",
       "    .dataframe thead th {\n",
       "        text-align: right;\n",
       "    }\n",
       "</style>\n",
       "<table border=\"1\" class=\"dataframe\">\n",
       "  <thead>\n",
       "    <tr style=\"text-align: right;\">\n",
       "      <th></th>\n",
       "      <th>ddl_judge_id</th>\n",
       "      <th>state_code</th>\n",
       "      <th>dist_code</th>\n",
       "      <th>court_no</th>\n",
       "      <th>judge_position</th>\n",
       "      <th>female_judge</th>\n",
       "      <th>start_date</th>\n",
       "      <th>end_date</th>\n",
       "    </tr>\n",
       "  </thead>\n",
       "  <tbody>\n",
       "    <tr>\n",
       "      <th>0</th>\n",
       "      <td>1</td>\n",
       "      <td>1</td>\n",
       "      <td>1</td>\n",
       "      <td>1</td>\n",
       "      <td>chief judicial magistrate</td>\n",
       "      <td>0 nonfemale</td>\n",
       "      <td>20-09-2013</td>\n",
       "      <td>20-02-2014</td>\n",
       "    </tr>\n",
       "    <tr>\n",
       "      <th>1</th>\n",
       "      <td>2</td>\n",
       "      <td>1</td>\n",
       "      <td>1</td>\n",
       "      <td>1</td>\n",
       "      <td>chief judicial magistrate</td>\n",
       "      <td>0 nonfemale</td>\n",
       "      <td>31-10-2013</td>\n",
       "      <td>20-02-2014</td>\n",
       "    </tr>\n",
       "    <tr>\n",
       "      <th>2</th>\n",
       "      <td>3</td>\n",
       "      <td>1</td>\n",
       "      <td>1</td>\n",
       "      <td>1</td>\n",
       "      <td>chief judicial magistrate</td>\n",
       "      <td>0 nonfemale</td>\n",
       "      <td>21-02-2014</td>\n",
       "      <td>31-05-2016</td>\n",
       "    </tr>\n",
       "    <tr>\n",
       "      <th>3</th>\n",
       "      <td>4</td>\n",
       "      <td>1</td>\n",
       "      <td>1</td>\n",
       "      <td>1</td>\n",
       "      <td>chief judicial magistrate</td>\n",
       "      <td>0 nonfemale</td>\n",
       "      <td>01-06-2016</td>\n",
       "      <td>06-06-2016</td>\n",
       "    </tr>\n",
       "    <tr>\n",
       "      <th>4</th>\n",
       "      <td>5</td>\n",
       "      <td>1</td>\n",
       "      <td>1</td>\n",
       "      <td>1</td>\n",
       "      <td>chief judicial magistrate</td>\n",
       "      <td>0 nonfemale</td>\n",
       "      <td>06-06-2016</td>\n",
       "      <td>07-07-2018</td>\n",
       "    </tr>\n",
       "  </tbody>\n",
       "</table>\n",
       "</div>"
      ],
      "text/plain": [
       "   ddl_judge_id  state_code  dist_code  court_no             judge_position  \\\n",
       "0             1           1          1         1  chief judicial magistrate   \n",
       "1             2           1          1         1  chief judicial magistrate   \n",
       "2             3           1          1         1  chief judicial magistrate   \n",
       "3             4           1          1         1  chief judicial magistrate   \n",
       "4             5           1          1         1  chief judicial magistrate   \n",
       "\n",
       "  female_judge  start_date    end_date  \n",
       "0  0 nonfemale  20-09-2013  20-02-2014  \n",
       "1  0 nonfemale  31-10-2013  20-02-2014  \n",
       "2  0 nonfemale  21-02-2014  31-05-2016  \n",
       "3  0 nonfemale  01-06-2016  06-06-2016  \n",
       "4  0 nonfemale  06-06-2016  07-07-2018  "
      ]
     },
     "execution_count": 3,
     "metadata": {},
     "output_type": "execute_result"
    }
   ],
   "source": [
    "df.head()"
   ]
  },
  {
   "cell_type": "code",
   "execution_count": 4,
   "metadata": {},
   "outputs": [
    {
     "data": {
      "text/plain": [
       "29"
      ]
     },
     "execution_count": 4,
     "metadata": {},
     "output_type": "execute_result"
    }
   ],
   "source": [
    "df.state_code.nunique()"
   ]
  },
  {
   "cell_type": "code",
   "execution_count": 5,
   "metadata": {},
   "outputs": [
    {
     "data": {
      "text/plain": [
       "74"
      ]
     },
     "execution_count": 5,
     "metadata": {},
     "output_type": "execute_result"
    }
   ],
   "source": [
    "df.dist_code.nunique()"
   ]
  },
  {
   "cell_type": "code",
   "execution_count": 6,
   "metadata": {},
   "outputs": [
    {
     "data": {
      "text/plain": [
       "3"
      ]
     },
     "execution_count": 6,
     "metadata": {},
     "output_type": "execute_result"
    }
   ],
   "source": [
    "df.female_judge.nunique()"
   ]
  },
  {
   "cell_type": "code",
   "execution_count": 7,
   "metadata": {},
   "outputs": [
    {
     "data": {
      "text/plain": [
       "565"
      ]
     },
     "execution_count": 7,
     "metadata": {},
     "output_type": "execute_result"
    }
   ],
   "source": [
    "df.judge_position.nunique()"
   ]
  },
  {
   "cell_type": "code",
   "execution_count": 8,
   "metadata": {},
   "outputs": [],
   "source": [
    "from sklearn.preprocessing import LabelEncoder\n",
    "    \n",
    "# creating instance of labelencoder\n",
    "encoder1 = LabelEncoder()\n",
    "encoder2 = LabelEncoder()\n",
    "    \n",
    "df['jp_encoded'] = encoder1.fit_transform(df['judge_position'])\n",
    "df['target'] = encoder2.fit_transform(df['female_judge'])"
   ]
  },
  {
   "cell_type": "code",
   "execution_count": 9,
   "metadata": {},
   "outputs": [
    {
     "data": {
      "text/plain": [
       "(98478, 10)"
      ]
     },
     "execution_count": 9,
     "metadata": {},
     "output_type": "execute_result"
    }
   ],
   "source": [
    "df.shape"
   ]
  },
  {
   "cell_type": "code",
   "execution_count": 10,
   "metadata": {},
   "outputs": [],
   "source": [
    "df.drop(['ddl_judge_id','start_date','end_date','judge_position','female_judge'],axis=1,inplace=True)"
   ]
  },
  {
   "cell_type": "code",
   "execution_count": 11,
   "metadata": {},
   "outputs": [],
   "source": [
    "X = df.drop('target', axis=1)\n",
    "y = df['target']"
   ]
  },
  {
   "cell_type": "code",
   "execution_count": 12,
   "metadata": {},
   "outputs": [],
   "source": [
    "from sklearn.model_selection import train_test_split\n",
    "X_train,X_comb,Y_train,Y_comb = train_test_split(X,y,test_size=0.3,random_state=0 , shuffle = False)\n",
    "X_validation,X_test,Y_validation,Y_test = train_test_split(X_comb,Y_comb,test_size=0.5,random_state=0 , shuffle = False)"
   ]
  },
  {
   "cell_type": "code",
   "execution_count": 13,
   "metadata": {},
   "outputs": [
    {
     "data": {
      "text/plain": [
       "((68934, 4), (68934,))"
      ]
     },
     "execution_count": 13,
     "metadata": {},
     "output_type": "execute_result"
    }
   ],
   "source": [
    "X_train.shape,Y_train.shape"
   ]
  },
  {
   "cell_type": "code",
   "execution_count": 14,
   "metadata": {},
   "outputs": [
    {
     "name": "stdout",
     "output_type": "stream",
     "text": [
      "<class 'pandas.core.frame.DataFrame'>\n",
      "Int64Index: 68934 entries, 0 to 68933\n",
      "Data columns (total 4 columns):\n",
      " #   Column      Non-Null Count  Dtype\n",
      "---  ------      --------------  -----\n",
      " 0   state_code  68934 non-null  int64\n",
      " 1   dist_code   68934 non-null  int64\n",
      " 2   court_no    68934 non-null  int64\n",
      " 3   jp_encoded  68934 non-null  int64\n",
      "dtypes: int64(4)\n",
      "memory usage: 2.6 MB\n"
     ]
    }
   ],
   "source": [
    "X_train.info()"
   ]
  },
  {
   "cell_type": "code",
   "execution_count": 15,
   "metadata": {},
   "outputs": [],
   "source": [
    "xgb_model = xgb.XGBClassifier().fit(X_train, Y_train)"
   ]
  },
  {
   "cell_type": "code",
   "execution_count": 16,
   "metadata": {},
   "outputs": [],
   "source": [
    "y_pred_val = xgb_model.predict(X_validation)\n",
    "y_pred_test = xgb_model.predict(X_test)"
   ]
  },
  {
   "cell_type": "code",
   "execution_count": 17,
   "metadata": {},
   "outputs": [
    {
     "name": "stdout",
     "output_type": "stream",
     "text": [
      "Accuracy of XGB regressor on training set: 0.75\n",
      "Accuracy of XGB regressor on validation set: 0.54\n",
      "Accuracy of XGB regressor on test set: 0.66\n",
      "f1 Score on validation set: 0.40\n",
      "f1 Score on test set: 0.56\n",
      "Mean Squared Error on test: 0.58\n"
     ]
    }
   ],
   "source": [
    "print('Accuracy of XGB regressor on training set: {:.2f}'\n",
    "       .format(xgb_model.score(X_train, Y_train)))\n",
    "print('Accuracy of XGB regressor on validation set: {:.2f}'\n",
    "       .format(xgb_model.score(X_validation, Y_validation)))\n",
    "print('Accuracy of XGB regressor on test set: {:.2f}'\n",
    "       .format(xgb_model.score(X_test, Y_test)))\n",
    "print(\"f1 Score on validation set: {:.2f}\"\n",
    "       .format(f1_score(Y_validation, y_pred_val, average='weighted')))\n",
    "print(\"f1 Score on test set: {:.2f}\"\n",
    "       .format(f1_score(Y_test, y_pred_test, average='weighted')))\n",
    "print(\"Mean Squared Error on test: {:.2f}\"\n",
    "       .format(mean_squared_error(Y_test, y_pred_test, squared=False)))\n"
   ]
  },
  {
   "cell_type": "code",
   "execution_count": null,
   "metadata": {},
   "outputs": [],
   "source": []
  }
 ],
 "metadata": {
  "kernelspec": {
   "display_name": "Python 3.7.0 ('int-mod')",
   "language": "python",
   "name": "python3"
  },
  "language_info": {
   "codemirror_mode": {
    "name": "ipython",
    "version": 3
   },
   "file_extension": ".py",
   "mimetype": "text/x-python",
   "name": "python",
   "nbconvert_exporter": "python",
   "pygments_lexer": "ipython3",
   "version": "3.7.0"
  },
  "orig_nbformat": 4,
  "vscode": {
   "interpreter": {
    "hash": "72659fcba5e288848dc83a7e23aea180c3a7da1d090b0c7bd3d46723f0159096"
   }
  }
 },
 "nbformat": 4,
 "nbformat_minor": 2
}
